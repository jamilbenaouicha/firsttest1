{
 "cells": [
  {
   "cell_type": "code",
   "execution_count": 1,
   "id": "d6ac8947-1f80-449b-9451-c719b56dde2a",
   "metadata": {},
   "outputs": [
    {
     "name": "stdout",
     "output_type": "stream",
     "text": [
      "jamil\n"
     ]
    }
   ],
   "source": [
    "print(\"jamil\")"
   ]
  },
  {
   "cell_type": "code",
   "execution_count": null,
   "id": "2083e9e4-6747-4fbc-8c46-e8d2fc902509",
   "metadata": {},
   "outputs": [],
   "source": []
  },
  {
   "cell_type": "code",
   "execution_count": 1,
   "id": "ec55ef09-6e16-4592-9699-06f195a60db7",
   "metadata": {},
   "outputs": [
    {
     "name": "stdout",
     "output_type": "stream",
     "text": [
      "jamil\n"
     ]
    }
   ],
   "source": [
    "print(\"jamil\")"
   ]
  }
 ],
 "metadata": {
  "kernelspec": {
   "display_name": "Python 3",
   "language": "python",
   "name": "python3"
  },
  "language_info": {
   "codemirror_mode": {
    "name": "ipython",
    "version": 3
   },
   "file_extension": ".py",
   "mimetype": "text/x-python",
   "name": "python",
   "nbconvert_exporter": "python",
   "pygments_lexer": "ipython3",
   "version": "3.8.8"
  }
 },
 "nbformat": 4,
 "nbformat_minor": 5
}
